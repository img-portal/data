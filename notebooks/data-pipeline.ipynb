{
 "cells": [
  {
   "cell_type": "markdown",
   "metadata": {},
   "source": [
    "## Design:\n",
    "\n",
    "Find videos with random numbers until list is of size 200."
   ]
  },
  {
   "cell_type": "code",
   "execution_count": 27,
   "metadata": {},
   "outputs": [],
   "source": [
    "import pandas as pd\n",
    "import numpy as np\n",
    "import os\n",
    "from dotenv import load_dotenv"
   ]
  },
  {
   "cell_type": "code",
   "execution_count": 28,
   "metadata": {},
   "outputs": [],
   "source": [
    "# Params:\n",
    "\n",
    "location = '' # 'RU' or '' for default\n",
    "startDate = 2009\n",
    "endDate = 2011\n",
    "videoDuration = 'short'\n",
    "vidNumber = 100"
   ]
  },
  {
   "cell_type": "markdown",
   "metadata": {},
   "source": [
    "## Pre Reqs"
   ]
  },
  {
   "cell_type": "code",
   "execution_count": 29,
   "metadata": {},
   "outputs": [],
   "source": [
    "load_dotenv()\n",
    "SECRET_KEY = os.getenv('YOUTUBE_API_KEY')\n",
    "\n",
    "df = pd.DataFrame(columns=[\n",
    "    'id',\n",
    "    'datePublished',\n",
    "    'title',\n",
    "    'link',\n",
    "    'description',\n",
    "    'author',\n",
    "    'viewCount'\n",
    "])"
   ]
  },
  {
   "cell_type": "markdown",
   "metadata": {},
   "source": [
    "## Helpers"
   ]
  },
  {
   "cell_type": "code",
   "execution_count": 30,
   "metadata": {},
   "outputs": [],
   "source": [
    "import random\n",
    "def rand_nums() -> str:\n",
    "    val = \"\"\n",
    "    for x in range (4):\n",
    "        y = random.randint(0,9)\n",
    "        val += str(y)\n",
    "    print(val)\n",
    "    return val"
   ]
  },
  {
   "cell_type": "code",
   "execution_count": 31,
   "metadata": {},
   "outputs": [],
   "source": [
    "def convert_year_to_rfc3339(year):\n",
    "    timestamp = pd.Timestamp(year=year, month=pd.Timestamp.today().month, day=pd.Timestamp.today().day, hour=0, minute=0, second=0, tz='UTC')\n",
    "    rfc3339_str = timestamp.strftime('%Y-%m-%dT%H:%M:%SZ')\n",
    "    return rfc3339_str\n"
   ]
  },
  {
   "cell_type": "code",
   "execution_count": 32,
   "metadata": {},
   "outputs": [],
   "source": [
    "# def start_day(year):\n",
    "#     timestamp = pd.Timestamp(year=year, month=pd.Timestamp.today().month, day=pd.Timestamp.today().day-1, hour=0, minute=0, second=0, tz='UTC')\n",
    "#     rfc3339_str = timestamp.strftime('%Y-%m-%dT%H:%M:%SZ')\n",
    "#     return rfc3339_str\n",
    "\n",
    "# def end_day(year):\n",
    "#     timestamp = pd.Timestamp(year=year, month=pd.Timestamp.today().month, day=pd.Timestamp.today().day-1, hour=23, minute=59, second=0, tz='UTC')\n",
    "#     rfc3339_str = timestamp.strftime('%Y-%m-%dT%H:%M:%SZ')\n",
    "#     return rfc3339_str\n",
    "\n",
    "# start_day(2011)\n",
    "# end_day(2011)"
   ]
  },
  {
   "cell_type": "markdown",
   "metadata": {},
   "source": [
    "# TODO: Videos from today n years ago\n",
    "# TODO: Viewer count for video\n",
    "\n",
    "# maybe location or other interesting things\n",
    "\n",
    "Front end notes:\n",
    "if viewed all go to old ones\n"
   ]
  },
  {
   "cell_type": "markdown",
   "metadata": {},
   "source": [
    "## Core"
   ]
  },
  {
   "cell_type": "code",
   "execution_count": null,
   "metadata": {},
   "outputs": [],
   "source": [
    "\n",
    "from apiclient.discovery import build\n",
    "\n",
    "youtube = build('youtube','v3',developerKey = SECRET_KEY)\n",
    "\n",
    "while (df.shape[0] < vidNumber): #might need adjustments\n",
    "\n",
    "    num = rand_nums()\n",
    "\n",
    "    request = youtube.search().list(\n",
    "        q=f'IMG {num}',\n",
    "        part='snippet',\n",
    "        type='video', \n",
    "        maxResults='3',\n",
    "        publishedAfter=f'{convert_year_to_rfc3339(2009)}',\n",
    "        publishedBefore=f'{convert_year_to_rfc3339(2011)}',\n",
    "        videoDuration=f'{videoDuration}',\n",
    "        videoEmbeddable='true'\n",
    "        )\n",
    "\n",
    "    res = request.execute()\n",
    "\n",
    "    for item in res['items']:\n",
    "\n",
    "        title = item['snippet']['title']\n",
    "        video_link = 'https://www.youtube.com/watch?v=' + item['id']['videoId']\n",
    "        video_id = item['id']['videoId']\n",
    "        description = item['snippet']['description']\n",
    "        author = item['snippet']['channelTitle']\n",
    "        date_published = item['snippet']['publishedAt']\n",
    "\n",
    "        new_row_df = pd.DataFrame([{\n",
    "            'id': video_id,\n",
    "            'datePublished': date_published,\n",
    "            'title': title,\n",
    "            'link': video_link,\n",
    "            'description': description,\n",
    "            'author': author,\n",
    "            'viewCount' : 0\n",
    "        }])\n",
    "\n",
    "        df = pd.concat([df, new_row_df], ignore_index=True)"
   ]
  },
  {
   "cell_type": "code",
   "execution_count": null,
   "metadata": {},
   "outputs": [],
   "source": [
    "df.head(60)"
   ]
  },
  {
   "cell_type": "markdown",
   "metadata": {},
   "source": [
    "## Postprocess\n",
    "\n",
    "Remove all videos where title is not in the IMG_XXXX format"
   ]
  },
  {
   "cell_type": "code",
   "execution_count": null,
   "metadata": {},
   "outputs": [],
   "source": [
    "regex_pattern = r\"IMG[_ ]\\d{4}(?:\\.MOV|\\.mp4)?\" \n",
    "\n",
    "filtered_df = df[df['title'].str.match(regex_pattern, na=False)]\n",
    "filtered_df = filtered_df.reset_index(drop=True)\n",
    "\n",
    "filtered_df.head(60)"
   ]
  },
  {
   "cell_type": "code",
   "execution_count": null,
   "metadata": {},
   "outputs": [],
   "source": [
    "# Fetch view count\n",
    "from apiclient.discovery import build\n",
    "\n",
    "for idx, row in filtered_df.iterrows():\n",
    "\n",
    "    print(row['id'])\n",
    "\n",
    "    youtube = build(\"youtube\", \"v3\", developerKey=SECRET_KEY)\n",
    "    \n",
    "    # Query the videos endpoint with the specified part and video ID\n",
    "    response = youtube.videos().list(\n",
    "        part=\"statistics\",\n",
    "        id=row['id']\n",
    "    ).execute()\n",
    "    \n",
    "    # Extract items from the response\n",
    "    items = response.get(\"items\", [])\n",
    "    if not items:\n",
    "        raise ValueError(f\"No items found for videoId: {row['id']}\")\n",
    "    \n",
    "    # Extract the 'statistics' object, then the 'viewCount'\n",
    "    stats = items[0].get(\"statistics\", {})\n",
    "    view_count_str = stats.get(\"viewCount\", 0)\n",
    "\n",
    "    print(view_count_str)\n",
    "\n",
    "    filtered_df.at[idx, 'viewCount'] = view_count_str\n"
   ]
  },
  {
   "cell_type": "code",
   "execution_count": null,
   "metadata": {},
   "outputs": [],
   "source": [
    "filtered_df.head(60)"
   ]
  },
  {
   "cell_type": "markdown",
   "metadata": {},
   "source": [
    "## Daily videos"
   ]
  },
  {
   "cell_type": "code",
   "execution_count": 25,
   "metadata": {},
   "outputs": [],
   "source": [
    "daily_path = \"../DB/videos.json\"\n",
    "\n",
    "filtered_df.to_json(daily_path, orient='records', lines=False, indent=4)"
   ]
  },
  {
   "cell_type": "markdown",
   "metadata": {},
   "source": [
    "## Archive for research purposes"
   ]
  },
  {
   "cell_type": "code",
   "execution_count": 26,
   "metadata": {},
   "outputs": [],
   "source": [
    "# might error if this has not been created previously\n",
    "archive_path = \"../DB/old_videos.json\"\n",
    "\n",
    "archive_df = pd.read_json(archive_path, orient='records')\n",
    "\n",
    "updated_df = pd.concat([archive_df, filtered_df], ignore_index=True)\n",
    "\n",
    "updated_df.to_json(archive_path, orient='records', lines=False, indent=4)"
   ]
  }
 ],
 "metadata": {
  "kernelspec": {
   "display_name": ".venv",
   "language": "python",
   "name": "python3"
  },
  "language_info": {
   "codemirror_mode": {
    "name": "ipython",
    "version": 3
   },
   "file_extension": ".py",
   "mimetype": "text/x-python",
   "name": "python",
   "nbconvert_exporter": "python",
   "pygments_lexer": "ipython3",
   "version": "3.11.8"
  }
 },
 "nbformat": 4,
 "nbformat_minor": 2
}
