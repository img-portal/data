{
 "cells": [
  {
   "cell_type": "code",
   "execution_count": 2,
   "metadata": {},
   "outputs": [],
   "source": [
    "import pandas as pd\n",
    "import numpy as np"
   ]
  },
  {
   "cell_type": "code",
   "execution_count": 3,
   "metadata": {},
   "outputs": [],
   "source": [
    "import os\n",
    "from dotenv import load_dotenv"
   ]
  },
  {
   "cell_type": "code",
   "execution_count": 4,
   "metadata": {},
   "outputs": [],
   "source": [
    "# Load environment variables from the .env file (if present)\n",
    "load_dotenv()\n",
    "\n",
    "# Access environment variables as if they came from the actual environment\n",
    "SECRET_KEY = os.getenv('YOUTUBE_API_KEY')\n"
   ]
  },
  {
   "cell_type": "code",
   "execution_count": 5,
   "metadata": {},
   "outputs": [],
   "source": [
    "import random\n",
    "def rand_title() -> str:\n",
    "    val = \"\"\n",
    "    for x in range (4):\n",
    "        y = random.randint(0,9)\n",
    "        val += str(y)\n",
    "    print(val)\n",
    "    return val"
   ]
  },
  {
   "cell_type": "code",
   "execution_count": 6,
   "metadata": {},
   "outputs": [],
   "source": [
    "df = pd.DataFrame(columns=[\n",
    "    'title',\n",
    "    'link',\n",
    "    'description',\n",
    "    'author',\n",
    "    'date published'\n",
    "])"
   ]
  },
  {
   "cell_type": "code",
   "execution_count": 7,
   "metadata": {},
   "outputs": [
    {
     "name": "stdout",
     "output_type": "stream",
     "text": [
      "9334\n",
      "<class 'googleapiclient.discovery.Resource'>\n",
      "<class 'googleapiclient.http.HttpRequest'>\n"
     ]
    }
   ],
   "source": [
    "\n",
    "from apiclient.discovery import build\n",
    "num = rand_title()\n",
    "\n",
    "youtube = build('youtube','v3',developerKey = SECRET_KEY)\n",
    "\n",
    "print(type(youtube))\n",
    "\n",
    "request = youtube.search().list(q=f'IMG_{num}',part='snippet',type='video', maxResults='5')\n",
    "\n",
    "print(type(request))\n",
    "\n",
    "res = request.execute()"
   ]
  },
  {
   "cell_type": "code",
   "execution_count": 8,
   "metadata": {},
   "outputs": [
    {
     "name": "stdout",
     "output_type": "stream",
     "text": [
      "{'kind': 'youtube#searchListResponse', 'etag': '7is7Pc6apdl5Y7XWiKD2cIMyhnE', 'nextPageToken': 'CAUQAA', 'regionCode': 'CA', 'pageInfo': {'totalResults': 18, 'resultsPerPage': 5}, 'items': [{'kind': 'youtube#searchResult', 'etag': 'TIJzS6Qe-OCsmMMYZHnlcfonvxk', 'id': {'kind': 'youtube#video', 'videoId': 'QKicKBDoWWM'}, 'snippet': {'publishedAt': '2021-02-05T18:50:34Z', 'channelId': 'UCr_n76UAE966r9p5_ZjBFGQ', 'title': 'IMG_9334', 'description': 'Subscribe: https://www.youtube.com/channel/UCr_n76UAE966r9p5_ZjBFGQ?sub_confirmation=1 If you see a clip that you own ...', 'thumbnails': {'default': {'url': 'https://i.ytimg.com/vi/QKicKBDoWWM/default.jpg', 'width': 120, 'height': 90}, 'medium': {'url': 'https://i.ytimg.com/vi/QKicKBDoWWM/mqdefault.jpg', 'width': 320, 'height': 180}, 'high': {'url': 'https://i.ytimg.com/vi/QKicKBDoWWM/hqdefault.jpg', 'width': 480, 'height': 360}}, 'channelTitle': 'Daily Cat Clips', 'liveBroadcastContent': 'none', 'publishTime': '2021-02-05T18:50:34Z'}}, {'kind': 'youtube#searchResult', 'etag': 'aFLchW9tvCT3jnPp5CBfz8MYElw', 'id': {'kind': 'youtube#video', 'videoId': 'kcsiNWFhPGI'}, 'snippet': {'publishedAt': '2024-07-29T02:35:54Z', 'channelId': 'UCTOOvr36Oxov6jp3UxcDenw', 'title': 'IMG_9334.MOV', 'description': 'Capadocia early AM.', 'thumbnails': {'default': {'url': 'https://i.ytimg.com/vi/kcsiNWFhPGI/default.jpg', 'width': 120, 'height': 90}, 'medium': {'url': 'https://i.ytimg.com/vi/kcsiNWFhPGI/mqdefault.jpg', 'width': 320, 'height': 180}, 'high': {'url': 'https://i.ytimg.com/vi/kcsiNWFhPGI/hqdefault.jpg', 'width': 480, 'height': 360}}, 'channelTitle': 'Dennis Vajradhirata', 'liveBroadcastContent': 'none', 'publishTime': '2024-07-29T02:35:54Z'}}, {'kind': 'youtube#searchResult', 'etag': 'L2laJ1DDKkQ6ivZjO6ccQDiW_ik', 'id': {'kind': 'youtube#video', 'videoId': 'Nf9ykwiL3bA'}, 'snippet': {'publishedAt': '2019-03-21T06:44:55Z', 'channelId': 'UCY3P196ULzY91rYgjvF7atg', 'title': 'IMG_9334.MOV', 'description': '', 'thumbnails': {'default': {'url': 'https://i.ytimg.com/vi/Nf9ykwiL3bA/default.jpg', 'width': 120, 'height': 90}, 'medium': {'url': 'https://i.ytimg.com/vi/Nf9ykwiL3bA/mqdefault.jpg', 'width': 320, 'height': 180}, 'high': {'url': 'https://i.ytimg.com/vi/Nf9ykwiL3bA/hqdefault.jpg', 'width': 480, 'height': 360}}, 'channelTitle': 'Eric Lu', 'liveBroadcastContent': 'none', 'publishTime': '2019-03-21T06:44:55Z'}}, {'kind': 'youtube#searchResult', 'etag': 'xgvdeSyzlPg5ZdsA30MR9B-hmCs', 'id': {'kind': 'youtube#video', 'videoId': 'ZB_cono7_Mg'}, 'snippet': {'publishedAt': '2011-06-15T02:54:12Z', 'channelId': 'UC6nR7i8IGxVDjmAFPV5QTHw', 'title': 'IMG_9334.MOV', 'description': '', 'thumbnails': {'default': {'url': 'https://i.ytimg.com/vi/ZB_cono7_Mg/default.jpg', 'width': 120, 'height': 90}, 'medium': {'url': 'https://i.ytimg.com/vi/ZB_cono7_Mg/mqdefault.jpg', 'width': 320, 'height': 180}, 'high': {'url': 'https://i.ytimg.com/vi/ZB_cono7_Mg/hqdefault.jpg', 'width': 480, 'height': 360}}, 'channelTitle': 'Kevin Young', 'liveBroadcastContent': 'none', 'publishTime': '2011-06-15T02:54:12Z'}}, {'kind': 'youtube#searchResult', 'etag': 'EbA_BLgaPgG1deLrS2FgvPxO34I', 'id': {'kind': 'youtube#video', 'videoId': 'aDREUujnL_g'}, 'snippet': {'publishedAt': '2019-04-17T00:20:30Z', 'channelId': 'UClHXFmYlYwJcyOOn9kuy5Aw', 'title': 'IMG_9334.MOV', 'description': '', 'thumbnails': {'default': {'url': 'https://i.ytimg.com/vi/aDREUujnL_g/default.jpg', 'width': 120, 'height': 90}, 'medium': {'url': 'https://i.ytimg.com/vi/aDREUujnL_g/mqdefault.jpg', 'width': 320, 'height': 180}, 'high': {'url': 'https://i.ytimg.com/vi/aDREUujnL_g/hqdefault.jpg', 'width': 480, 'height': 360}}, 'channelTitle': 'Hsieh Joyce', 'liveBroadcastContent': 'none', 'publishTime': '2019-04-17T00:20:30Z'}}]}\n"
     ]
    }
   ],
   "source": [
    "print(res)"
   ]
  },
  {
   "cell_type": "code",
   "execution_count": 9,
   "metadata": {},
   "outputs": [
    {
     "name": "stdout",
     "output_type": "stream",
     "text": [
      "{'kind': 'youtube#searchResult', 'etag': 'TIJzS6Qe-OCsmMMYZHnlcfonvxk', 'id': {'kind': 'youtube#video', 'videoId': 'QKicKBDoWWM'}, 'snippet': {'publishedAt': '2021-02-05T18:50:34Z', 'channelId': 'UCr_n76UAE966r9p5_ZjBFGQ', 'title': 'IMG_9334', 'description': 'Subscribe: https://www.youtube.com/channel/UCr_n76UAE966r9p5_ZjBFGQ?sub_confirmation=1 If you see a clip that you own ...', 'thumbnails': {'default': {'url': 'https://i.ytimg.com/vi/QKicKBDoWWM/default.jpg', 'width': 120, 'height': 90}, 'medium': {'url': 'https://i.ytimg.com/vi/QKicKBDoWWM/mqdefault.jpg', 'width': 320, 'height': 180}, 'high': {'url': 'https://i.ytimg.com/vi/QKicKBDoWWM/hqdefault.jpg', 'width': 480, 'height': 360}}, 'channelTitle': 'Daily Cat Clips', 'liveBroadcastContent': 'none', 'publishTime': '2021-02-05T18:50:34Z'}}\n",
      "{'kind': 'youtube#searchResult', 'etag': 'aFLchW9tvCT3jnPp5CBfz8MYElw', 'id': {'kind': 'youtube#video', 'videoId': 'kcsiNWFhPGI'}, 'snippet': {'publishedAt': '2024-07-29T02:35:54Z', 'channelId': 'UCTOOvr36Oxov6jp3UxcDenw', 'title': 'IMG_9334.MOV', 'description': 'Capadocia early AM.', 'thumbnails': {'default': {'url': 'https://i.ytimg.com/vi/kcsiNWFhPGI/default.jpg', 'width': 120, 'height': 90}, 'medium': {'url': 'https://i.ytimg.com/vi/kcsiNWFhPGI/mqdefault.jpg', 'width': 320, 'height': 180}, 'high': {'url': 'https://i.ytimg.com/vi/kcsiNWFhPGI/hqdefault.jpg', 'width': 480, 'height': 360}}, 'channelTitle': 'Dennis Vajradhirata', 'liveBroadcastContent': 'none', 'publishTime': '2024-07-29T02:35:54Z'}}\n",
      "{'kind': 'youtube#searchResult', 'etag': 'L2laJ1DDKkQ6ivZjO6ccQDiW_ik', 'id': {'kind': 'youtube#video', 'videoId': 'Nf9ykwiL3bA'}, 'snippet': {'publishedAt': '2019-03-21T06:44:55Z', 'channelId': 'UCY3P196ULzY91rYgjvF7atg', 'title': 'IMG_9334.MOV', 'description': '', 'thumbnails': {'default': {'url': 'https://i.ytimg.com/vi/Nf9ykwiL3bA/default.jpg', 'width': 120, 'height': 90}, 'medium': {'url': 'https://i.ytimg.com/vi/Nf9ykwiL3bA/mqdefault.jpg', 'width': 320, 'height': 180}, 'high': {'url': 'https://i.ytimg.com/vi/Nf9ykwiL3bA/hqdefault.jpg', 'width': 480, 'height': 360}}, 'channelTitle': 'Eric Lu', 'liveBroadcastContent': 'none', 'publishTime': '2019-03-21T06:44:55Z'}}\n",
      "{'kind': 'youtube#searchResult', 'etag': 'xgvdeSyzlPg5ZdsA30MR9B-hmCs', 'id': {'kind': 'youtube#video', 'videoId': 'ZB_cono7_Mg'}, 'snippet': {'publishedAt': '2011-06-15T02:54:12Z', 'channelId': 'UC6nR7i8IGxVDjmAFPV5QTHw', 'title': 'IMG_9334.MOV', 'description': '', 'thumbnails': {'default': {'url': 'https://i.ytimg.com/vi/ZB_cono7_Mg/default.jpg', 'width': 120, 'height': 90}, 'medium': {'url': 'https://i.ytimg.com/vi/ZB_cono7_Mg/mqdefault.jpg', 'width': 320, 'height': 180}, 'high': {'url': 'https://i.ytimg.com/vi/ZB_cono7_Mg/hqdefault.jpg', 'width': 480, 'height': 360}}, 'channelTitle': 'Kevin Young', 'liveBroadcastContent': 'none', 'publishTime': '2011-06-15T02:54:12Z'}}\n",
      "{'kind': 'youtube#searchResult', 'etag': 'EbA_BLgaPgG1deLrS2FgvPxO34I', 'id': {'kind': 'youtube#video', 'videoId': 'aDREUujnL_g'}, 'snippet': {'publishedAt': '2019-04-17T00:20:30Z', 'channelId': 'UClHXFmYlYwJcyOOn9kuy5Aw', 'title': 'IMG_9334.MOV', 'description': '', 'thumbnails': {'default': {'url': 'https://i.ytimg.com/vi/aDREUujnL_g/default.jpg', 'width': 120, 'height': 90}, 'medium': {'url': 'https://i.ytimg.com/vi/aDREUujnL_g/mqdefault.jpg', 'width': 320, 'height': 180}, 'high': {'url': 'https://i.ytimg.com/vi/aDREUujnL_g/hqdefault.jpg', 'width': 480, 'height': 360}}, 'channelTitle': 'Hsieh Joyce', 'liveBroadcastContent': 'none', 'publishTime': '2019-04-17T00:20:30Z'}}\n"
     ]
    }
   ],
   "source": [
    "for item in res['items']:\n",
    "    print(item)\n",
    "\n",
    "for item in res['items']:\n",
    "\n",
    "    title = item['snippet']['title']\n",
    "    video_link = 'https://www.youtube.com/watch?v=' + item['id']['videoId']\n",
    "    description = item['snippet']['description']\n",
    "    author = item['snippet']['channelTitle']\n",
    "    date_published = item['snippet']['publishedAt']\n",
    "\n",
    "    new_row_df = pd.DataFrame([{\n",
    "        'title': title,\n",
    "        'link': video_link,\n",
    "        'description': description,\n",
    "        'author': author,\n",
    "        'date published': date_published\n",
    "    }])\n",
    "\n",
    "    df = pd.concat([df, new_row_df], ignore_index=True)"
   ]
  },
  {
   "cell_type": "code",
   "execution_count": 10,
   "metadata": {},
   "outputs": [
    {
     "data": {
      "text/html": [
       "<div>\n",
       "<style scoped>\n",
       "    .dataframe tbody tr th:only-of-type {\n",
       "        vertical-align: middle;\n",
       "    }\n",
       "\n",
       "    .dataframe tbody tr th {\n",
       "        vertical-align: top;\n",
       "    }\n",
       "\n",
       "    .dataframe thead th {\n",
       "        text-align: right;\n",
       "    }\n",
       "</style>\n",
       "<table border=\"1\" class=\"dataframe\">\n",
       "  <thead>\n",
       "    <tr style=\"text-align: right;\">\n",
       "      <th></th>\n",
       "      <th>title</th>\n",
       "      <th>link</th>\n",
       "      <th>description</th>\n",
       "      <th>author</th>\n",
       "      <th>date published</th>\n",
       "    </tr>\n",
       "  </thead>\n",
       "  <tbody>\n",
       "    <tr>\n",
       "      <th>0</th>\n",
       "      <td>IMG_9334</td>\n",
       "      <td>https://www.youtube.com/watch?v=QKicKBDoWWM</td>\n",
       "      <td>Subscribe: https://www.youtube.com/channel/UCr...</td>\n",
       "      <td>Daily Cat Clips</td>\n",
       "      <td>2021-02-05T18:50:34Z</td>\n",
       "    </tr>\n",
       "    <tr>\n",
       "      <th>1</th>\n",
       "      <td>IMG_9334.MOV</td>\n",
       "      <td>https://www.youtube.com/watch?v=kcsiNWFhPGI</td>\n",
       "      <td>Capadocia early AM.</td>\n",
       "      <td>Dennis Vajradhirata</td>\n",
       "      <td>2024-07-29T02:35:54Z</td>\n",
       "    </tr>\n",
       "    <tr>\n",
       "      <th>2</th>\n",
       "      <td>IMG_9334.MOV</td>\n",
       "      <td>https://www.youtube.com/watch?v=Nf9ykwiL3bA</td>\n",
       "      <td></td>\n",
       "      <td>Eric Lu</td>\n",
       "      <td>2019-03-21T06:44:55Z</td>\n",
       "    </tr>\n",
       "    <tr>\n",
       "      <th>3</th>\n",
       "      <td>IMG_9334.MOV</td>\n",
       "      <td>https://www.youtube.com/watch?v=ZB_cono7_Mg</td>\n",
       "      <td></td>\n",
       "      <td>Kevin Young</td>\n",
       "      <td>2011-06-15T02:54:12Z</td>\n",
       "    </tr>\n",
       "    <tr>\n",
       "      <th>4</th>\n",
       "      <td>IMG_9334.MOV</td>\n",
       "      <td>https://www.youtube.com/watch?v=aDREUujnL_g</td>\n",
       "      <td></td>\n",
       "      <td>Hsieh Joyce</td>\n",
       "      <td>2019-04-17T00:20:30Z</td>\n",
       "    </tr>\n",
       "  </tbody>\n",
       "</table>\n",
       "</div>"
      ],
      "text/plain": [
       "          title                                         link  \\\n",
       "0      IMG_9334  https://www.youtube.com/watch?v=QKicKBDoWWM   \n",
       "1  IMG_9334.MOV  https://www.youtube.com/watch?v=kcsiNWFhPGI   \n",
       "2  IMG_9334.MOV  https://www.youtube.com/watch?v=Nf9ykwiL3bA   \n",
       "3  IMG_9334.MOV  https://www.youtube.com/watch?v=ZB_cono7_Mg   \n",
       "4  IMG_9334.MOV  https://www.youtube.com/watch?v=aDREUujnL_g   \n",
       "\n",
       "                                         description               author  \\\n",
       "0  Subscribe: https://www.youtube.com/channel/UCr...      Daily Cat Clips   \n",
       "1                                Capadocia early AM.  Dennis Vajradhirata   \n",
       "2                                                                 Eric Lu   \n",
       "3                                                             Kevin Young   \n",
       "4                                                             Hsieh Joyce   \n",
       "\n",
       "         date published  \n",
       "0  2021-02-05T18:50:34Z  \n",
       "1  2024-07-29T02:35:54Z  \n",
       "2  2019-03-21T06:44:55Z  \n",
       "3  2011-06-15T02:54:12Z  \n",
       "4  2019-04-17T00:20:30Z  "
      ]
     },
     "execution_count": 10,
     "metadata": {},
     "output_type": "execute_result"
    }
   ],
   "source": [
    "df.head()"
   ]
  },
  {
   "cell_type": "code",
   "execution_count": 11,
   "metadata": {},
   "outputs": [],
   "source": [
    "output_path = \"../DB/videos.json\"\n",
    "\n",
    "df.to_json(output_path, orient='records', lines=False, indent=4)"
   ]
  }
 ],
 "metadata": {
  "kernelspec": {
   "display_name": ".venv",
   "language": "python",
   "name": "python3"
  },
  "language_info": {
   "codemirror_mode": {
    "name": "ipython",
    "version": 3
   },
   "file_extension": ".py",
   "mimetype": "text/x-python",
   "name": "python",
   "nbconvert_exporter": "python",
   "pygments_lexer": "ipython3",
   "version": "3.11.8"
  }
 },
 "nbformat": 4,
 "nbformat_minor": 2
}
